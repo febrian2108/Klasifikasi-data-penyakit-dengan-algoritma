{
 "cells": [
  {
   "cell_type": "code",
   "execution_count": null,
   "id": "44edd6e3",
   "metadata": {},
   "outputs": [],
   "source": [
    "import streamlit as st\n",
    "import pandas as pd\n",
    "import matplotlib.pyplot as plt"
   ]
  },
  {
   "cell_type": "code",
   "execution_count": null,
   "id": "0d23b2ab",
   "metadata": {},
   "outputs": [],
   "source": [
    "from sklearn.neighbors import KNeighborsClassifier\n",
    "from sklearn.svm import SVC\n",
    "from sklearn.ensemble import RandomForestClassifier\n",
    "from sklearn.model_selection import train_test_split\n",
    "from sklearn.metrics import accuracy_score\n",
    "from sklearn.decomposition import PCA"
   ]
  },
  {
   "cell_type": "code",
   "execution_count": null,
   "id": "2da09b1a",
   "metadata": {},
   "outputs": [],
   "source": [
    "# Pemeriksaan dataset yang akan digunakan\n",
    "try:\n",
    "    data_jantung = pd.read_csv('dataset/Dataset_Jantung.csv')\n",
    "except FileNotFoundError:\n",
    "    st.error(\"File 'Dataset_Jantung.csv' tidak ditemukan. Periksa path dan lokasi file!\")"
   ]
  },
  {
   "cell_type": "code",
   "execution_count": null,
   "id": "9148fd3b",
   "metadata": {
    "lines_to_next_cell": 2
   },
   "outputs": [],
   "source": [
    "try:\n",
    "    data_ginjal = pd.read_csv('dataset/Dataset_Ginjal.csv')\n",
    "except FileNotFoundError:\n",
    "    st.error(\"File 'Dataset_Ginjal.csv' tidak ditemukan. Periksa path dan lokasi file!\")"
   ]
  },
  {
   "cell_type": "code",
   "execution_count": null,
   "id": "f7e638f9",
   "metadata": {},
   "outputs": [],
   "source": [
    "# Menampilkan web\n",
    "st.title('Klasifikasi Penyakit Jantung, dan Ginjal')\n",
    "st.write(\"\"\"\n",
    "    # Menggunakan beberapa algoritma dan dataset yang berbeda\n",
    "    #### Mana yang Terbaik?\n",
    "    \"\"\"\n",
    ")"
   ]
  },
  {
   "cell_type": "code",
   "execution_count": null,
   "id": "44bc5d6e",
   "metadata": {},
   "outputs": [],
   "source": [
    "# Menampilkan pilihan dataset\n",
    "nama_dataset = st.sidebar.selectbox(\n",
    "    'Pilih Dataset',\n",
    "    ('Penyakit Jantung', 'Penyakit Ginjal')\n",
    ")"
   ]
  },
  {
   "cell_type": "code",
   "execution_count": null,
   "id": "37e46f12",
   "metadata": {},
   "outputs": [],
   "source": [
    "st.write(f\"## Dataset {nama_dataset}\")"
   ]
  },
  {
   "cell_type": "code",
   "execution_count": null,
   "id": "dab6b797",
   "metadata": {
    "lines_to_next_cell": 1
   },
   "outputs": [],
   "source": [
    "# menampilkan pilihan algoritma\n",
    "algoritma = st.sidebar.selectbox(\n",
    "    'Pilih Algoritma',\n",
    "    ('KNN', 'SVM', 'Random Forest')\n",
    ")"
   ]
  },
  {
   "cell_type": "code",
   "execution_count": null,
   "id": "03f792a2",
   "metadata": {
    "lines_to_next_cell": 1
   },
   "outputs": [],
   "source": [
    "# inisialisasi dataset yang akan di tampilkan\n",
    "def pilih_dataset(nama):\n",
    "    data = None\n",
    "    if nama == 'Penyakit Jantung':\n",
    "        data = data_jantung\n",
    "        return data\n",
    "    else:\n",
    "        data = data_ginjal\n",
    "        return data"
   ]
  },
  {
   "cell_type": "code",
   "execution_count": null,
   "id": "f40c4a9b",
   "metadata": {
    "lines_to_next_cell": 1
   },
   "outputs": [],
   "source": [
    "# Preprocessing dataset\n",
    "def preprocess_dataset(dataset):\n",
    "    # Periksa nilai kosong\n",
    "    if dataset.isnull().values.any():\n",
    "        st.warning(\"Dataset mengandung nilai kosong. Mengisi nilai kosong dengan rata-rata (untuk numerik) atau mode (untuk kategori).\")\n",
    "        for column in dataset.columns:\n",
    "            if dataset[column].dtype == 'object':  # Kolom kategori\n",
    "                dataset[column].fillna(dataset[column].mode()[0], inplace=True)\n",
    "            else:  # Kolom numerik\n",
    "                dataset[column].fillna(dataset[column].mean(), inplace=True)\n",
    "    \n",
    "    # Identifikasi kolom kategori\n",
    "    categorical_columns = dataset.select_dtypes(include=['object']).columns\n",
    "    if len(categorical_columns) > 0:\n",
    "        # Lakukan one-hot encoding atau label encoding\n",
    "        dataset = pd.get_dummies(dataset, columns=categorical_columns, drop_first=True)\n",
    "    \n",
    "    return dataset"
   ]
  },
  {
   "cell_type": "code",
   "execution_count": null,
   "id": "47eaceeb",
   "metadata": {},
   "outputs": [],
   "source": [
    "# Preprocessing\n",
    "dataset = pilih_dataset(nama_dataset)"
   ]
  },
  {
   "cell_type": "code",
   "execution_count": null,
   "id": "196eab8c",
   "metadata": {
    "lines_to_next_cell": 1
   },
   "outputs": [],
   "source": [
    "if dataset is None:\n",
    "    st.error(\"Dataset tidak ditemukan atau gagal dimuat. Periksa pilihan dataset Anda.\")\n",
    "else:\n",
    "    # Preprocessing dataset\n",
    "    dataset = preprocess_dataset(dataset)\n",
    "\n",
    "    # Pisahkan fitur (x) dan target (y)\n",
    "    x = dataset.iloc[:, :-1]  # Semua kolom kecuali kolom terakhir\n",
    "    y = dataset.iloc[:, -1]   # Kolom terakhir\n",
    "\n",
    "    # Tampilkan informasi dataset\n",
    "    st.write('Jumlah Baris dan Kolom : ', x.shape)\n",
    "    st.write('Jumlah Kelas : ', y.nunique())"
   ]
  },
  {
   "cell_type": "code",
   "execution_count": null,
   "id": "bdbb6f04",
   "metadata": {
    "lines_to_next_cell": 1
   },
   "outputs": [],
   "source": [
    "def tambah_parameter(nama_algoritma):\n",
    "    params = dict()\n",
    "    if nama_algoritma == 'KNN':\n",
    "        K = st.sidebar.slider('K', 1, 15)\n",
    "        params['K'] = K\n",
    "    elif nama_algoritma == 'SVM':\n",
    "        C = st.sidebar.slider('C', 0.01, 10.0)\n",
    "        params['C'] = C\n",
    "    else:\n",
    "        max_depth = st.sidebar.slider('max_depth', 1, 15)\n",
    "        params['max_depth'] = max_depth\n",
    "        n_estimators = st.sidebar.slider('n_estimators', 1, 100)\n",
    "        params['n_estimators'] = n_estimators\n",
    "    return params"
   ]
  },
  {
   "cell_type": "code",
   "execution_count": null,
   "id": "c1fc3bdf",
   "metadata": {
    "lines_to_next_cell": 1
   },
   "outputs": [],
   "source": [
    "params = tambah_parameter(algoritma)"
   ]
  },
  {
   "cell_type": "code",
   "execution_count": null,
   "id": "1c6afea1",
   "metadata": {
    "lines_to_next_cell": 1
   },
   "outputs": [],
   "source": [
    "def pilih_klasifikasi(nama_algoritma, params):\n",
    "    algorithm = None\n",
    "    if nama_algoritma == 'KNN':\n",
    "        algorithm = KNeighborsClassifier(n_neighbors=params['K'])\n",
    "    elif nama_algoritma == 'SVM':\n",
    "        algorithm = SVC(C=params['C'])\n",
    "    else:\n",
    "        algorithm = RandomForestClassifier(\n",
    "            n_estimators=params['n_estimators'],\n",
    "            max_depth=params['max_depth'],\n",
    "            random_state=12345\n",
    "        )\n",
    "    return algorithm"
   ]
  },
  {
   "cell_type": "code",
   "execution_count": null,
   "id": "5bf39a29",
   "metadata": {},
   "outputs": [],
   "source": [
    "algorithm = pilih_klasifikasi(algoritma, params)"
   ]
  },
  {
   "cell_type": "code",
   "execution_count": null,
   "id": "ff097f74",
   "metadata": {},
   "outputs": [],
   "source": [
    "# Menampilkan hasil prediksi\n",
    "x_train, x_test, y_train, y_test = train_test_split(x, y, test_size=0.2, random_state=12345)"
   ]
  },
  {
   "cell_type": "code",
   "execution_count": null,
   "id": "d38ebd0e",
   "metadata": {},
   "outputs": [],
   "source": [
    "algorithm.fit(x_train, y_train)\n",
    "y_pred = algorithm.predict(x_test)"
   ]
  },
  {
   "cell_type": "code",
   "execution_count": null,
   "id": "ba8e086c",
   "metadata": {},
   "outputs": [],
   "source": [
    "accuracy = accuracy_score(y_test, y_pred)"
   ]
  },
  {
   "cell_type": "code",
   "execution_count": null,
   "id": "9c4b7308",
   "metadata": {},
   "outputs": [],
   "source": [
    "st.write(f'Algoritma : {algoritma}')\n",
    "st.write(f'Akurasi : {accuracy}' )"
   ]
  },
  {
   "cell_type": "code",
   "execution_count": null,
   "id": "5047a31d",
   "metadata": {},
   "outputs": [],
   "source": [
    "#  PLOT DATASET\n",
    "# Memproyeksi data kedalam 2 komponen PCA\n",
    "pca = PCA(2)\n",
    "x_projected = pca.fit_transform(x)"
   ]
  },
  {
   "cell_type": "code",
   "execution_count": null,
   "id": "86ad2787",
   "metadata": {},
   "outputs": [],
   "source": [
    "x1 = x_projected[:, 0]\n",
    "x2 = x_projected[:, 1]"
   ]
  },
  {
   "cell_type": "code",
   "execution_count": null,
   "id": "b28a492e",
   "metadata": {},
   "outputs": [],
   "source": [
    "fig = plt.figure()\n",
    "plt.scatter(x1, x2, c=y, alpha=0.8, cmap='viridis')\n",
    "plt.xlabel('Principal Component 1') # menambahkan label untuk sumbu x\n",
    "plt.ylabel('Principal Component 2') # menambahkan label untuk sumbu y\n",
    "plt.colorbar() # menambahkan bar warna"
   ]
  },
  {
   "cell_type": "code",
   "execution_count": null,
   "id": "5d500eca",
   "metadata": {},
   "outputs": [],
   "source": [
    "st.pyplot(fig)"
   ]
  }
 ],
 "metadata": {
  "jupytext": {
   "cell_metadata_filter": "-all",
   "main_language": "python",
   "notebook_metadata_filter": "-all"
  }
 },
 "nbformat": 4,
 "nbformat_minor": 5
}
